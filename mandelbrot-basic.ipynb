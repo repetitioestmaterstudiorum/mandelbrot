{
 "cells": [
  {
   "attachments": {},
   "cell_type": "markdown",
   "metadata": {},
   "source": [
    "# Fractals with Python\n",
    "https://towardsdatascience.com/create-stunning-fractal-art-with-python-a-tutorial-for-beginners-c83817fcb64b"
   ]
  },
  {
   "cell_type": "code",
   "execution_count": 19,
   "metadata": {},
   "outputs": [],
   "source": [
    "from PIL import Image\n",
    "import math\n",
    "import pandas as pd\n",
    "import numpy as np\n",
    "import matplotlib.pyplot as plt"
   ]
  },
  {
   "cell_type": "code",
   "execution_count": 20,
   "metadata": {},
   "outputs": [],
   "source": [
    "# basic mandelbrot\n",
    "Image.effect_mandelbrot((512, 512), (-3, -2.5, 2, 2.5), 100).show()"
   ]
  },
  {
   "cell_type": "code",
   "execution_count": 21,
   "metadata": {},
   "outputs": [
    {
     "name": "stdout",
     "output_type": "stream",
     "text": [
      "type(num1): <class 'complex'>, type(num2): <class 'complex'>\n",
      "num1 real part: 2.0 and imaginary part: 1.0\n"
     ]
    }
   ],
   "source": [
    "# complex numbers in python\n",
    "num1 = 2 + 1j # same as complex(2, 1)\n",
    "num2 = 12.3 + 23.1j\n",
    "\n",
    "print(f\"type(num1): {type(num1)}, type(num2): {type(num2)}\")\n",
    "print(f\"num1 real part: {num1.real} and imaginary part: {num1.imag}\")"
   ]
  },
  {
   "cell_type": "code",
   "execution_count": 22,
   "metadata": {},
   "outputs": [
    {
     "name": "stdout",
     "output_type": "stream",
     "text": [
      "2.23606797749979\n",
      "2.23606797749979\n"
     ]
    }
   ],
   "source": [
    "# important property of complex numbers: their absolute value (or magnitude) is their distance from the origin (0, 0) in the complex plane\n",
    "print(abs(num1)) # same as print(abs(2 + 1j))\n",
    "\n",
    "# which is calculated as (pythagoras)\n",
    "print(math.sqrt(2**2 + 1**2))"
   ]
  },
  {
   "attachments": {},
   "cell_type": "markdown",
   "metadata": {},
   "source": [
    "## Mandelbrot Function\n",
    "\n",
    "![Mandelbrot Function](mandelbrot-function.webp)\n",
    "\n",
    "The first z is always 0. Subsequent elements are found by squaring the previous z and adding c to the result."
   ]
  },
  {
   "cell_type": "code",
   "execution_count": 23,
   "metadata": {},
   "outputs": [],
   "source": [
    "# Return the first n elements for a given c\n",
    "def sequence(c, n=7):\n",
    "    z_list = list()\n",
    "    \n",
    "    z = 0\n",
    "    for _ in range(n):\n",
    "        z = z ** 2 + c\n",
    "        z_list.append(z)\n",
    "    \n",
    "    return z_list"
   ]
  },
  {
   "cell_type": "code",
   "execution_count": 24,
   "metadata": {},
   "outputs": [
    {
     "data": {
      "text/plain": [
       "[1, 2, 5, 26, 677, 458330, 210066388901]"
      ]
     },
     "execution_count": 24,
     "metadata": {},
     "output_type": "execute_result"
    }
   ],
   "source": [
    "sequence(1)"
   ]
  },
  {
   "cell_type": "code",
   "execution_count": 25,
   "metadata": {},
   "outputs": [
    {
     "data": {
      "text/html": [
       "<div>\n",
       "<style scoped>\n",
       "    .dataframe tbody tr th:only-of-type {\n",
       "        vertical-align: middle;\n",
       "    }\n",
       "\n",
       "    .dataframe tbody tr th {\n",
       "        vertical-align: top;\n",
       "    }\n",
       "\n",
       "    .dataframe thead th {\n",
       "        text-align: right;\n",
       "    }\n",
       "</style>\n",
       "<table border=\"1\" class=\"dataframe\">\n",
       "  <thead>\n",
       "    <tr style=\"text-align: right;\">\n",
       "      <th></th>\n",
       "      <th>element</th>\n",
       "    </tr>\n",
       "  </thead>\n",
       "  <tbody>\n",
       "    <tr>\n",
       "      <th>0</th>\n",
       "      <td>z_0</td>\n",
       "    </tr>\n",
       "    <tr>\n",
       "      <th>1</th>\n",
       "      <td>z_1</td>\n",
       "    </tr>\n",
       "    <tr>\n",
       "      <th>2</th>\n",
       "      <td>z_2</td>\n",
       "    </tr>\n",
       "    <tr>\n",
       "      <th>3</th>\n",
       "      <td>z_3</td>\n",
       "    </tr>\n",
       "    <tr>\n",
       "      <th>4</th>\n",
       "      <td>z_4</td>\n",
       "    </tr>\n",
       "  </tbody>\n",
       "</table>\n",
       "</div>"
      ],
      "text/plain": [
       "  element\n",
       "0     z_0\n",
       "1     z_1\n",
       "2     z_2\n",
       "3     z_3\n",
       "4     z_4"
      ]
     },
     "execution_count": 25,
     "metadata": {},
     "output_type": "execute_result"
    }
   ],
   "source": [
    "# Create sample data\n",
    "df = pd.DataFrame()\n",
    "df['element'] = [f\"z_{i}\" for i in range(7)]\n",
    "df.head()"
   ]
  },
  {
   "cell_type": "code",
   "execution_count": 26,
   "metadata": {},
   "outputs": [
    {
     "data": {
      "text/html": [
       "<div>\n",
       "<style scoped>\n",
       "    .dataframe tbody tr th:only-of-type {\n",
       "        vertical-align: middle;\n",
       "    }\n",
       "\n",
       "    .dataframe tbody tr th {\n",
       "        vertical-align: top;\n",
       "    }\n",
       "\n",
       "    .dataframe thead th {\n",
       "        text-align: right;\n",
       "    }\n",
       "</style>\n",
       "<table border=\"1\" class=\"dataframe\">\n",
       "  <thead>\n",
       "    <tr style=\"text-align: right;\">\n",
       "      <th></th>\n",
       "      <th>element</th>\n",
       "      <th>c=0</th>\n",
       "      <th>c=1</th>\n",
       "      <th>c=-1</th>\n",
       "      <th>c=2</th>\n",
       "      <th>c=0.25</th>\n",
       "      <th>c=-0.1</th>\n",
       "    </tr>\n",
       "  </thead>\n",
       "  <tbody>\n",
       "    <tr>\n",
       "      <th>0</th>\n",
       "      <td>z_0</td>\n",
       "      <td>0</td>\n",
       "      <td>1</td>\n",
       "      <td>-1</td>\n",
       "      <td>2</td>\n",
       "      <td>0.250000</td>\n",
       "      <td>-0.100000</td>\n",
       "    </tr>\n",
       "    <tr>\n",
       "      <th>1</th>\n",
       "      <td>z_1</td>\n",
       "      <td>0</td>\n",
       "      <td>2</td>\n",
       "      <td>0</td>\n",
       "      <td>6</td>\n",
       "      <td>0.312500</td>\n",
       "      <td>-0.090000</td>\n",
       "    </tr>\n",
       "    <tr>\n",
       "      <th>2</th>\n",
       "      <td>z_2</td>\n",
       "      <td>0</td>\n",
       "      <td>5</td>\n",
       "      <td>-1</td>\n",
       "      <td>38</td>\n",
       "      <td>0.347656</td>\n",
       "      <td>-0.091900</td>\n",
       "    </tr>\n",
       "    <tr>\n",
       "      <th>3</th>\n",
       "      <td>z_3</td>\n",
       "      <td>0</td>\n",
       "      <td>26</td>\n",
       "      <td>0</td>\n",
       "      <td>1446</td>\n",
       "      <td>0.370865</td>\n",
       "      <td>-0.091554</td>\n",
       "    </tr>\n",
       "    <tr>\n",
       "      <th>4</th>\n",
       "      <td>z_4</td>\n",
       "      <td>0</td>\n",
       "      <td>677</td>\n",
       "      <td>-1</td>\n",
       "      <td>2090918</td>\n",
       "      <td>0.387541</td>\n",
       "      <td>-0.091618</td>\n",
       "    </tr>\n",
       "    <tr>\n",
       "      <th>5</th>\n",
       "      <td>z_5</td>\n",
       "      <td>0</td>\n",
       "      <td>458330</td>\n",
       "      <td>0</td>\n",
       "      <td>4371938082726</td>\n",
       "      <td>0.400188</td>\n",
       "      <td>-0.091606</td>\n",
       "    </tr>\n",
       "    <tr>\n",
       "      <th>6</th>\n",
       "      <td>z_6</td>\n",
       "      <td>0</td>\n",
       "      <td>210066388901</td>\n",
       "      <td>-1</td>\n",
       "      <td>19113842599189892819591078</td>\n",
       "      <td>0.410150</td>\n",
       "      <td>-0.091608</td>\n",
       "    </tr>\n",
       "  </tbody>\n",
       "</table>\n",
       "</div>"
      ],
      "text/plain": [
       "  element  c=0           c=1  c=-1                         c=2    c=0.25  \\\n",
       "0     z_0    0             1    -1                           2  0.250000   \n",
       "1     z_1    0             2     0                           6  0.312500   \n",
       "2     z_2    0             5    -1                          38  0.347656   \n",
       "3     z_3    0            26     0                        1446  0.370865   \n",
       "4     z_4    0           677    -1                     2090918  0.387541   \n",
       "5     z_5    0        458330     0               4371938082726  0.400188   \n",
       "6     z_6    0  210066388901    -1  19113842599189892819591078  0.410150   \n",
       "\n",
       "     c=-0.1  \n",
       "0 -0.100000  \n",
       "1 -0.090000  \n",
       "2 -0.091900  \n",
       "3 -0.091554  \n",
       "4 -0.091618  \n",
       "5 -0.091606  \n",
       "6 -0.091608  "
      ]
     },
     "execution_count": 26,
     "metadata": {},
     "output_type": "execute_result"
    }
   ],
   "source": [
    "some_example_cs = [0, 1, -1, 2, 0.25, -.1]\n",
    "\n",
    "for c in some_example_cs:\n",
    "    df[f\"c={c}\"] = sequence(c)\n",
    "    \n",
    "df"
   ]
  },
  {
   "attachments": {},
   "cell_type": "markdown",
   "metadata": {},
   "source": [
    "3 types of results:\n",
    "- when c is 1 or 2: Z is unbounded (diverges to infinity) as it grows\n",
    "- when c is -1: Z fluctuaties between -1 and 0\n",
    "- when c is 0.25 or -0.1: Z stays small\n",
    "\n",
    "--> If Z diverges to infinity, it is not part of the Mandelbrot Set\n",
    "\n",
    "--> If the Z sequence remains bounded, c is stable!"
   ]
  },
  {
   "cell_type": "code",
   "execution_count": 27,
   "metadata": {},
   "outputs": [],
   "source": [
    "\"\"\"\n",
    "To classify c as stable or unstable, we need to determine the number of iterations, which is not obvious due to the formula's sensitivity to small changes. However, researchers found all Mandelbrots stay within a radius of two, allowing for a few dozen iterations to identify membership.\n",
    "\"\"\"\n",
    "\n",
    "def is_stable(c, n_iterations=20):\n",
    "    z = 0\n",
    "    \n",
    "    for _ in range(n_iterations):\n",
    "        z = z ** 2 + c\n",
    "        \n",
    "        if abs(z) > 2:\n",
    "            return False\n",
    "        \n",
    "    return True"
   ]
  },
  {
   "cell_type": "code",
   "execution_count": 28,
   "metadata": {},
   "outputs": [
    {
     "name": "stdout",
     "output_type": "stream",
     "text": [
      "is_stable(.26): True\n",
      "is_stable(.27): False\n"
     ]
    }
   ],
   "source": [
    "print(f\"is_stable(.26): {is_stable(.26)}\")\n",
    "print(f\"is_stable(.27): {is_stable(.27)}\")"
   ]
  },
  {
   "cell_type": "code",
   "execution_count": 29,
   "metadata": {},
   "outputs": [
    {
     "name": "stdout",
     "output_type": "stream",
     "text": [
      "is_stable(.26, 30): False\n",
      "is_stable(.26): True\n"
     ]
    }
   ],
   "source": [
    "# 30 iterations changes the stability of c=0.26. Values near the fractal's edge require more iterations for accurate classification\n",
    "print(f\"is_stable(.26, 30): {is_stable(.26, 30)}\")\n",
    "print(f\"is_stable(.26): {is_stable(.26)}\")"
   ]
  },
  {
   "cell_type": "code",
   "execution_count": 30,
   "metadata": {},
   "outputs": [],
   "source": [
    "\"\"\"\n",
    "To plot the Mandelbrot fractal using Matplotlib, we should color all Mandelbrots black and unstable elements white.\n",
    "\n",
    "We can normalize Matplotlib's grayscale to 0 and 1 (0 is white, 1 is black). This allows us to create a 2D array of complex numbers, apply the \"is_stable\" function, and plot a black-and-white visual of the Mandelbrot set.\n",
    "\"\"\"\n",
    "\n",
    "def candidate_values(xmin, xmax, ymin, ymax, pixel_density, log=False):\n",
    "    log and print(f\"xmin: {xmin}, xmax: {xmax}, ymin: {ymin}, ymax: {ymax}, pixel_density: {pixel_density}\")\n",
    "    log and print(f\"num x: {int((xmax-xmin) * pixel_density)}, num y: {int((ymax-ymin) * pixel_density)}\")\n",
    "\n",
    "    # Generate a 2D grid of real and imaginary values\n",
    "    real = np.linspace(xmin, xmax, num=int((xmax-xmin) * pixel_density))\n",
    "    imag = np.linspace(ymin, ymax, num=int((ymax-ymin) * pixel_density))\n",
    "    log and print(f\"imag: {imag}, real: {real}\")\n",
    "    \n",
    "    # Cross each row of `xx` with each column of `yy` to create a grid of values\n",
    "    xx, yy = np.meshgrid(real, imag)\n",
    "    log and print(f\"xx: \\n{xx}, \\nyy: \\n{yy}\")\n",
    "    \n",
    "    # Combine the real and imaginary parts into complex numbers\n",
    "    matrix = xx + 1j * yy\n",
    "    \n",
    "    return matrix"
   ]
  },
  {
   "cell_type": "code",
   "execution_count": 31,
   "metadata": {},
   "outputs": [
    {
     "name": "stdout",
     "output_type": "stream",
     "text": [
      "xmin: -2, xmax: 0, ymin: -1.2, ymax: 1.2, pixel_density: 1\n",
      "num x: 2, num y: 2\n",
      "imag: [-1.2  1.2], real: [-2.  0.]\n",
      "xx: \n",
      "[[-2.  0.]\n",
      " [-2.  0.]], \n",
      "yy: \n",
      "[[-1.2 -1.2]\n",
      " [ 1.2  1.2]]\n",
      "c.shape: (2, 2)\n"
     ]
    },
    {
     "data": {
      "text/plain": [
       "array([[-2.-1.2j,  0.-1.2j],\n",
       "       [-2.+1.2j,  0.+1.2j]])"
      ]
     },
     "execution_count": 31,
     "metadata": {},
     "output_type": "execute_result"
    }
   ],
   "source": [
    "c = candidate_values(-2, 0, -1.2, 1.2, 1, log=True)\n",
    "print(f\"c.shape: {c.shape}\")\n",
    "c"
   ]
  },
  {
   "cell_type": "code",
   "execution_count": 32,
   "metadata": {},
   "outputs": [
    {
     "name": "stdout",
     "output_type": "stream",
     "text": [
      "mandelbrot_mask.shape: (2, 2)\n"
     ]
    },
    {
     "data": {
      "text/plain": [
       "array([[False, False],\n",
       "       [False, False]])"
      ]
     },
     "execution_count": 32,
     "metadata": {},
     "output_type": "execute_result"
    }
   ],
   "source": [
    "# We can vectorize the \"is_stable\" function with np.vectorize and apply it to each element of c. This is done with 20 iterations.\n",
    "mandelbrot_mask = np.vectorize(is_stable)(c, n_iterations=20)\n",
    "print(f\"mandelbrot_mask.shape: {mandelbrot_mask.shape}\")\n",
    "mandelbrot_mask"
   ]
  },
  {
   "cell_type": "code",
   "execution_count": 33,
   "metadata": {},
   "outputs": [
    {
     "name": "stdout",
     "output_type": "stream",
     "text": [
      "c.shape: (60, 67)\n",
      "mandelbrot_mask.shape: (60, 67)\n"
     ]
    },
    {
     "data": {
      "text/plain": [
       "array([[False, False, False, ..., False, False, False],\n",
       "       [False, False, False, ..., False, False, False],\n",
       "       [False, False, False, ..., False, False, False],\n",
       "       ...,\n",
       "       [False, False, False, ..., False, False, False],\n",
       "       [False, False, False, ..., False, False, False],\n",
       "       [False, False, False, ..., False, False, False]])"
      ]
     },
     "execution_count": 33,
     "metadata": {},
     "output_type": "execute_result"
    }
   ],
   "source": [
    "c = candidate_values(-2, 0.7, -1.2, 1.2, pixel_density=25)\n",
    "print(f\"c.shape: {c.shape}\")\n",
    "mandelbrot_mask = np.vectorize(is_stable)(c, n_iterations=20)\n",
    "print(f\"mandelbrot_mask.shape: {mandelbrot_mask.shape}\")\n",
    "mandelbrot_mask"
   ]
  },
  {
   "cell_type": "code",
   "execution_count": 34,
   "metadata": {},
   "outputs": [
    {
     "data": {
      "text/plain": [
       "<matplotlib.image.AxesImage at 0x13fe30040>"
      ]
     },
     "execution_count": 34,
     "metadata": {},
     "output_type": "execute_result"
    },
    {
     "data": {
      "image/png": "[encoded data removed]",
      "text/plain": [
       "<Figure size 640x480 with 1 Axes>"
      ]
     },
     "metadata": {},
     "output_type": "display_data"
    }
   ],
   "source": [
    "plt.imshow(mandelbrot_mask, cmap=\"binary\")"
   ]
  },
  {
   "cell_type": "code",
   "execution_count": 35,
   "metadata": {},
   "outputs": [
    {
     "data": {
      "image/png": "[encoded data removed]",
      "text/plain": [
       "<Figure size 640x480 with 1 Axes>"
      ]
     },
     "metadata": {},
     "output_type": "display_data"
    }
   ],
   "source": [
    "# Higher resolution: more pixel density and iteration count\n",
    "c = candidate_values(-2, 0.7, -1.2, 1.2, pixel_density=1024)\n",
    "mandelbrot_mask = np.vectorize(is_stable)(c, n_iterations=30)\n",
    "\n",
    "plt.imshow(mandelbrot_mask, cmap=\"binary\")\n",
    "plt.gca().set_aspect(\"equal\") # ensure equal x and y aspect ratio\n",
    "plt.axis(\"off\") # no x and y axis numbers\n",
    "plt.tight_layout() # use entire canvas space"
   ]
  },
  {
   "cell_type": "code",
   "execution_count": null,
   "metadata": {},
   "outputs": [],
   "source": []
  }
 ],
 "metadata": {
  "kernelspec": {
   "display_name": "Python 3",
   "language": "python",
   "name": "python3"
  },
  "language_info": {
   "codemirror_mode": {
    "name": "ipython",
    "version": 3
   },
   "file_extension": ".py",
   "mimetype": "text/x-python",
   "name": "python",
   "nbconvert_exporter": "python",
   "pygments_lexer": "ipython3",
   "version": "3.10.8"
  },
  "orig_nbformat": 4,
  "vscode": {
   "interpreter": {
    "hash": "6b3b0df9ed9816c85094de18ea59c7aafe7622db593e8342d3a5e856b7fe9d02"
   }
  }
 },
 "nbformat": 4,
 "nbformat_minor": 2
}
